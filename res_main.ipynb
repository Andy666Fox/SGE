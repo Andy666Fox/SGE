{
 "cells": [
  {
   "cell_type": "code",
   "execution_count": 82,
   "source": [
    "# Import Libraries\r\n",
    "\r\n",
    "import math\r\n",
    "import numpy as np \r\n",
    "from PIL import Image\r\n",
    "from scipy.io import wavfile\r\n",
    "import PIL\r\n",
    "\r\n",
    "from colormap import rgb2hex, hex2rgb\r\n",
    "import re\r\n",
    "import os"
   ],
   "outputs": [],
   "metadata": {}
  },
  {
   "cell_type": "code",
   "execution_count": 70,
   "source": [
    "srate, data = wavfile.read('uzorami.wav')"
   ],
   "outputs": [
    {
     "output_type": "stream",
     "name": "stderr",
     "text": [
      "<ipython-input-70-cedd08a1093b>:1: WavFileWarning: Chunk (non-data) not understood, skipping it.\n",
      "  srate, data = wavfile.read('uzorami.wav')\n"
     ]
    }
   ],
   "metadata": {}
  },
  {
   "cell_type": "code",
   "execution_count": 71,
   "source": [
    "srate"
   ],
   "outputs": [
    {
     "output_type": "execute_result",
     "data": {
      "text/plain": [
       "44100"
      ]
     },
     "metadata": {},
     "execution_count": 71
    }
   ],
   "metadata": {}
  },
  {
   "cell_type": "code",
   "execution_count": 91,
   "source": [
    "def encode(file: str) -> PIL.PngImagePlugin.PngImageFile:\r\n",
    "    \r\n",
    "    \"\"\" Audio track encoding function.\r\n",
    "        It takes a .wav file as input and encodes first in HEX and then in RGB.\r\n",
    "        The output is an image with audio encoded in it\r\n",
    "    \"\"\"\r\n",
    "    \r\n",
    "    srate , s_arr = wavfile.read(file)\r\n",
    "    resolution = math.ceil(np.sqrt(len(s_arr)))\r\n",
    "    delta_res = resolution**2 - len(s_arr)\r\n",
    "    \r\n",
    "    new_arr = []\r\n",
    "\r\n",
    "    buffer_symbols = ['a', 'b', 'c', 'd', 'e']\r\n",
    "    \r\n",
    "    \r\n",
    "    srate_rgb = int(srate ** (1/3))\r\n",
    "    \r\n",
    "    for elem in s_arr:\r\n",
    "        \r\n",
    "        gate = np.random.choice([False, True])\r\n",
    "        \r\n",
    "        app = None\r\n",
    "        salt_pos = ''.join([np.random.choice(buffer_symbols) for _ in range(6-len(str(elem)))])\r\n",
    "        salt_neg = ''.join([np.random.choice(buffer_symbols) for _ in range(6-len(str(elem)))])\r\n",
    "        \r\n",
    "        if elem >= 0:\r\n",
    "            \r\n",
    "            if gate:\r\n",
    "            \r\n",
    "                app = f'#{elem}' + salt_pos\r\n",
    "                new_arr.append(app)\r\n",
    "                \r\n",
    "            else:\r\n",
    "                app = f'#{salt_pos}{elem}'\r\n",
    "                new_arr.append(app)\r\n",
    "            \r\n",
    "        else:\r\n",
    "            \r\n",
    "            if gate:\r\n",
    "            \r\n",
    "                app = f'#f{elem*-1}' + salt_neg\r\n",
    "                new_arr.append(app)\r\n",
    "                \r\n",
    "            else:\r\n",
    "                app = f'#f{salt_neg}{elem*-1}'\r\n",
    "                new_arr.append(app)\r\n",
    "            \r\n",
    "\r\n",
    "    p_arr = np.array([list(hex2rgb(x)) for x in new_arr] + [[0,0,0] for x in range(delta_res - 1)] + [[srate_rgb, srate_rgb, srate_rgb]])\r\n",
    "    \r\n",
    "    p_arr = p_arr.reshape(resolution, resolution, 3)\r\n",
    "    p_arr = p_arr.astype(np.uint8)\r\n",
    "    \r\n",
    "    \r\n",
    "    img = Image.fromarray(p_arr)\r\n",
    "    img.save(f'{file[:-4]}_encoded.png')"
   ],
   "outputs": [],
   "metadata": {}
  },
  {
   "cell_type": "code",
   "execution_count": 92,
   "source": [
    "encode('guitar.wav')"
   ],
   "outputs": [
    {
     "output_type": "stream",
     "name": "stderr",
     "text": [
      "<ipython-input-91-00a4d3e35f9f>:8: WavFileWarning: Chunk (non-data) not understood, skipping it.\n",
      "  srate , s_arr = wavfile.read(file)\n"
     ]
    }
   ],
   "metadata": {}
  },
  {
   "cell_type": "code",
   "execution_count": 93,
   "source": [
    "def decode(path: str):\r\n",
    "    \r\n",
    "    \"\"\"Audio decoding function from image. Uses the inverse algorithm of the encode () function\r\n",
    "    \"\"\"\r\n",
    "    \r\n",
    "    img = np.array(Image.open(path))\r\n",
    "    img = img.reshape(img.shape[0]**2, 3)\r\n",
    "    \r\n",
    "    f_arr = []\r\n",
    "    end_arr = []\r\n",
    "    \r\n",
    "    for elem in img:\r\n",
    "        f_arr.append(rgb2hex(*elem))\r\n",
    "        \r\n",
    "    for h in f_arr:\r\n",
    "        \r\n",
    "        res = None\r\n",
    "        \r\n",
    "        if h[1].lower() == 'f':\r\n",
    "            res = re.findall('\\d+', h)[0]\r\n",
    "            res = -int(res)\r\n",
    "            end_arr.append(res)\r\n",
    "            \r\n",
    "        else:\r\n",
    "            \r\n",
    "            res = re.findall('\\d+', h)[0]\r\n",
    "            end_arr.append(int(res))\r\n",
    "            \r\n",
    "    \r\n",
    "    \r\n",
    "    end_arr = np.array(end_arr).astype(np.int16)\r\n",
    "    \r\n",
    "    samplerate = img[-1][-1] ** 3\r\n",
    "    samplerate -= samplerate % -100\r\n",
    "       \r\n",
    "    wavfile.write(f'{path[:-4]}_decoded.wav', samplerate, end_arr)\r\n",
    "    os.system(f'ffmpeg -i {path[:-4]}_decoded.wav -ar 44100 {path[:-4]}_decoded.mp3')\r\n",
    "    os.remove(f'{path[:-4]}_decoded.wav')\r\n",
    "            \r\n",
    "            "
   ],
   "outputs": [],
   "metadata": {}
  },
  {
   "cell_type": "code",
   "execution_count": 94,
   "source": [
    "decode('guitar_encoded.png')"
   ],
   "outputs": [],
   "metadata": {}
  },
  {
   "cell_type": "code",
   "execution_count": 72,
   "source": [
    "import os"
   ],
   "outputs": [],
   "metadata": {}
  },
  {
   "cell_type": "code",
   "execution_count": 81,
   "source": [
    "os.system('ffmpeg -i guitar_encoded_decoded.wav -ar 44100 guitar_encoded_decoded.mp3')"
   ],
   "outputs": [
    {
     "output_type": "execute_result",
     "data": {
      "text/plain": [
       "0"
      ]
     },
     "metadata": {},
     "execution_count": 81
    }
   ],
   "metadata": {}
  }
 ],
 "metadata": {
  "orig_nbformat": 4,
  "language_info": {
   "name": "python",
   "version": "3.8.8",
   "mimetype": "text/x-python",
   "codemirror_mode": {
    "name": "ipython",
    "version": 3
   },
   "pygments_lexer": "ipython3",
   "nbconvert_exporter": "python",
   "file_extension": ".py"
  },
  "kernelspec": {
   "name": "python3",
   "display_name": "Python 3.8.8 64-bit ('base': conda)"
  },
  "interpreter": {
   "hash": "745580af149099085c602309336f96fdb3d04063157b41704fe01950326166b1"
  }
 },
 "nbformat": 4,
 "nbformat_minor": 2
}